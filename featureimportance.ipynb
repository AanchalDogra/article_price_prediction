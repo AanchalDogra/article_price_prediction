{
 "cells": [
  {
   "cell_type": "code",
   "execution_count": 3,
   "metadata": {},
   "outputs": [
    {
     "name": "stdout",
     "output_type": "stream",
     "text": [
      "Feature ranking:\n",
      "1. petal width (cm) (0.4339818709871682)\n",
      "2. petal length (cm) (0.4173081338019912)\n",
      "3. sepal length (cm) (0.10410500706117767)\n",
      "4. sepal width (cm) (0.04460498814966301)\n",
      "Accuracy: 1.00\n"
     ]
    }
   ],
   "source": [
    "from sklearn.datasets import load_iris\n",
    "from sklearn.ensemble import RandomForestClassifier\n",
    "from sklearn.model_selection import train_test_split\n",
    "\n",
    "import numpy as np\n",
    "# Load the iris dataset\n",
    "iris = load_iris()\n",
    "\n",
    "# Split the dataset into training and testing sets\n",
    "X_train, X_test, y_train, y_test = train_test_split(iris.data, iris.target, test_size=0.3, random_state=42)\n",
    "\n",
    "# Train a Random Forest model on the training data\n",
    "rf = RandomForestClassifier(n_estimators=100, random_state=42)\n",
    "rf.fit(X_train, y_train)\n",
    "\n",
    "# Calculate the feature importance using the feature_importances_ attribute of the Random Forest model\n",
    "importances = rf.feature_importances_\n",
    "\n",
    "# Rank the features based on their importance\n",
    "indices = np.argsort(importances)[::-1]\n",
    "\n",
    "# Print the feature ranking\n",
    "print(\"Feature ranking:\")\n",
    "for f in range(X_train.shape[1]):\n",
    "    print(f\"{f+1}. {iris.feature_names[indices[f]]} ({importances[indices[f]]})\")\n",
    "\n",
    "# Select the top 2 important features and use them to train a new Random Forest model\n",
    "X_train_new = X_train[:, indices[:2]]\n",
    "X_test_new = X_test[:, indices[:2]]\n",
    "rf_new = RandomForestClassifier(n_estimators=100, random_state=42)\n",
    "rf_new.fit(X_train_new, y_train)\n",
    "\n",
    "# Evaluate the performance of the new model on the testing data\n",
    "score = rf_new.score(X_test_new, y_test)\n",
    "print(f\"Accuracy: {score:.2f}\")\n"
   ]
  },
  {
   "cell_type": "code",
   "execution_count": 5,
   "metadata": {},
   "outputs": [
    {
     "data": {
      "text/plain": [
       "['sepal length (cm)',\n",
       " 'sepal width (cm)',\n",
       " 'petal length (cm)',\n",
       " 'petal width (cm)']"
      ]
     },
     "execution_count": 5,
     "metadata": {},
     "output_type": "execute_result"
    }
   ],
   "source": [
    "iris.feature_names"
   ]
  },
  {
   "cell_type": "code",
   "execution_count": null,
   "metadata": {},
   "outputs": [],
   "source": []
  }
 ],
 "metadata": {
  "kernelspec": {
   "display_name": "base",
   "language": "python",
   "name": "python3"
  },
  "language_info": {
   "codemirror_mode": {
    "name": "ipython",
    "version": 3
   },
   "file_extension": ".py",
   "mimetype": "text/x-python",
   "name": "python",
   "nbconvert_exporter": "python",
   "pygments_lexer": "ipython3",
   "version": "3.9.13"
  },
  "orig_nbformat": 4,
  "vscode": {
   "interpreter": {
    "hash": "d2fda13169b4985eb46200e351c56e363d10db4c771d16bbb36c378509c58bfb"
   }
  }
 },
 "nbformat": 4,
 "nbformat_minor": 2
}
